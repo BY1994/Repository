{
  "nbformat": 4,
  "nbformat_minor": 0,
  "metadata": {
    "colab": {
      "name": "autograph.ipynb의 사본",
      "version": "0.3.2",
      "provenance": [],
      "private_outputs": true,
      "collapsed_sections": [
        "Jxv6goXm7oGF"
      ],
      "toc_visible": true
    },
    "kernelspec": {
      "display_name": "Python 3",
      "name": "python3"
    }
  },
  "cells": [
    {
      "cell_type": "markdown",
      "metadata": {
        "colab_type": "text",
        "id": "Jxv6goXm7oGF"
      },
      "source": [
        "##### Copyright 2018 The TensorFlow Authors.\n",
        "\n",
        "Licensed under the Apache License, Version 2.0 (the \"License\");"
      ]
    },
    {
      "cell_type": "code",
      "metadata": {
        "colab_type": "code",
        "id": "llMNufAK7nfK",
        "colab": {}
      },
      "source": [
        "#@title Licensed under the Apache License, Version 2.0 (the \"License\"); { display-mode: \"form\" }\n",
        "# you may not use this file except in compliance with the License.\n",
        "# You may obtain a copy of the License at\n",
        "#\n",
        "# https://www.apache.org/licenses/LICENSE-2.0\n",
        "#\n",
        "# Unless required by applicable law or agreed to in writing, software\n",
        "# distributed under the License is distributed on an \"AS IS\" BASIS,\n",
        "# WITHOUT WARRANTIES OR CONDITIONS OF ANY KIND, either express or implied.\n",
        "# See the License for the specific language governing permissions and\n",
        "# limitations under the License."
      ],
      "execution_count": 0,
      "outputs": []
    },
    {
      "cell_type": "markdown",
      "metadata": {
        "colab_type": "text",
        "id": "8Byow2J6LaPl"
      },
      "source": [
        "# 오토그래프(AutoGraph): Easy control flow for graphs"
      ]
    },
    {
      "cell_type": "markdown",
      "metadata": {
        "colab_type": "text",
        "id": "kGXS3UWBBNoc"
      },
      "source": [
        "<table class=\"tfo-notebook-buttons\" align=\"left\">\n",
        "  <td>\n",
        "    <a target=\"_blank\" href=\"https://www.tensorflow.org/guide/autograph\"><img src=\"https://www.tensorflow.org/images/tf_logo_32px.png\" />TensorFlow.org 에서 보기</a>\n",
        "  </td>\n",
        "  <td>\n",
        "    <a target=\"_blank\" href=\"https://colab.research.google.com/github/tensorflow/docs/blob/master/site/en/guide/autograph.ipynb\"><img src=\"https://www.tensorflow.org/images/colab_logo_32px.png\" />구글 코랩(Google Colab)에서 실행하기</a>\n",
        "  </td>\n",
        "  <td>\n",
        "    <a target=\"_blank\" href=\"https://github.com/tensorflow/docs/blob/master/site/en/guide/autograph.ipynb\"><img src=\"https://www.tensorflow.org/images/GitHub-Mark-32px.png\" />깃헙(GitHub) 소스 보기</a>\n",
        "  </td>\n",
        "</table>"
      ]
    },
    {
      "cell_type": "markdown",
      "metadata": {
        "id": "tLH-P5_N-qgP",
        "colab_type": "text"
      },
      "source": [
        "Note: 이 문서는 텐서플로 커뮤니티에서 번역했습니다. 커뮤니티 번역 활동의 특성상 정확한 번역과 최신 내용을 반영하기 위해 노력함에도\n",
        "불구하고 [공식 영문 문서](https://www.tensorflow.org/?hl=en)의 내용과 일치하지 않을 수 있습니다.\n",
        "이 번역에 개선할 부분이 있다면\n",
        "[tensorflow/docs](https://github.com/tensorflow/docs) 깃헙 저장소로 풀 리퀘스트를 보내주시기 바랍니다.\n",
        "문서 번역이나 리뷰에 참여하려면\n",
        "[docs-ko@tensorflow.org](https://groups.google.com/a/tensorflow.org/forum/#!forum/docs-ko)로\n",
        "메일을 보내주시기 바랍니다."
      ]
    },
    {
      "cell_type": "markdown",
      "metadata": {
        "colab_type": "text",
        "id": "CydFK2CL7ZHA"
      },
      "source": [
        "[오토그래프(AutoGraph)](https://github.com/tensorflow/tensorflow/blob/master/tensorflow/python/autograph/) 모듈은 일반적인 파이썬을 사용해서 복잡한 그래프 코드를 작성하는데 도움을 줄 수 있습니다. 더 나아가, 이 모듈은 자동으로 여러분의 코드를  [텐서플로 그래프 코드](https://www.tensorflow.org/guide/graphs)로 변환해 줄 수 있습니다.  이 모듈은 이미 파이썬 언어의 많은 부분을 지원하고 있고, 앞으로 더 많은 부분이 지원될 것입니다. 파이썬 언어의 성질 중 지원되는 부분을 확인하려면, [오토그래프 지원 범위](https://github.com/tensorflow/tensorflow/blob/master/tensorflow/python/autograph/LIMITATIONS.md)를 참고하세요. \n",
        "\n"
      ]
    },
    {
      "cell_type": "markdown",
      "metadata": {
        "colab_type": "text",
        "id": "n4EKOpw9mObL"
      },
      "source": [
        "## 설정\n",
        "\n",
        "TensorFlow, AutoGraph 와 필요한 모듈들을 import합니다."
      ]
    },
    {
      "cell_type": "code",
      "metadata": {
        "colab_type": "code",
        "id": "mT7meGqrZTz9",
        "colab": {}
      },
      "source": [
        "from __future__ import absolute_import, division, print_function, unicode_literals\n",
        "\n",
        "import tensorflow as tf\n",
        "layers = tf.keras.layers\n",
        "from tensorflow import contrib\n",
        "autograph = contrib.autograph\n",
        "\n",
        "import numpy as np\n",
        "import matplotlib.pyplot as plt"
      ],
      "execution_count": 0,
      "outputs": []
    },
    {
      "cell_type": "markdown",
      "metadata": {
        "colab_type": "text",
        "id": "Hh1PajmUJMNp"
      },
      "source": [
        "결과 시연을 위해서 [즉시 실행(eager execution)](https://www.tensorflow.org/guide/eager)이 가능하게 해줍니다. 하지만 오토그래프 모듈은 즉시 실행과 [그래프 실행(graph execution)](https://www.tensorflow.org/guide/graphs)환경에서 모두 동작합니다:"
      ]
    },
    {
      "cell_type": "code",
      "metadata": {
        "colab_type": "code",
        "id": "ks_hiqcSJNvg",
        "colab": {}
      },
      "source": [
        "tf.enable_eager_execution()"
      ],
      "execution_count": 0,
      "outputs": []
    },
    {
      "cell_type": "markdown",
      "metadata": {
        "colab_type": "text",
        "id": "WR4lG3hsuWQT"
      },
      "source": [
        "Note: 오토그래프 코드는 본래 그래프 실행을 하는 동안 동작하도록 만들어졌습니다.  즉시 실행을 설정했을 경우, 명시적으로 그래프를 생성하거나 (본 예시에서 볼 수 있듯이) 혹은 `tf.contrib.eager.defun`을 사용해야합니다.\n"
      ]
    },
    {
      "cell_type": "markdown",
      "metadata": {
        "colab_type": "text",
        "id": "ohbSnA79mcJV"
      },
      "source": [
        "## 파이썬 제어 흐름(control flow)을 자동으로 변환하기 Automatically convert Python control flow\n",
        "\n",
        "오토그래프 모듈은 파이썬 언어의 대부분을 텐서플로 그래프 빌딩(building) 코드로 변환합니다. \n",
        "\n",
        "Note: 실제로 활용할 때 배치(batching)는 수행을 위해 필수적입니다. 오토그래프 모듈로 변환하기 좋은 코드는 _배치(batch)_ 수준에서 제어 흐름이 결정되는 코드입니다. 만일 개별적인 _예제(example)_ 수준에서 제어 흐름이 결정된다면, 제어 흐름 논리가 적용되는 동안 수행을 유지하기 위해서 예제들에 인덱스를 붙이고 배치화해야합니다. \n",
        "\n",
        "오토그래프 모듈은 다음과 같은 함수를:"
      ]
    },
    {
      "cell_type": "code",
      "metadata": {
        "colab_type": "code",
        "id": "aA3gOodCBkOw",
        "colab": {}
      },
      "source": [
        "def square_if_positive(x):\n",
        "  if x > 0:\n",
        "    x = x * x\n",
        "  else:\n",
        "    x = 0.0\n",
        "  return x"
      ],
      "execution_count": 0,
      "outputs": []
    },
    {
      "cell_type": "markdown",
      "metadata": {
        "colab_type": "text",
        "id": "LICw4XQFZrhH"
      },
      "source": [
        "그래프 빌딩을 포함하는 함수로 변환합니다:"
      ]
    },
    {
      "cell_type": "code",
      "metadata": {
        "colab_type": "code",
        "id": "_EMhGUjRZoKQ",
        "colab": {}
      },
      "source": [
        "print(autograph.to_code(square_if_positive))"
      ],
      "execution_count": 0,
      "outputs": []
    },
    {
      "cell_type": "markdown",
      "metadata": {
        "colab_type": "text",
        "id": "xpK0m4TCvkJq"
      },
      "source": [
        "즉시 실행 코드는 `tf.Graph` 내에서 그래프 실행 코드와 같은 결과값을 보이며 동작할 수 있습니다. 또한 그래프 실행도 가능하다는 장점을 갖추고 있습니다."
      ]
    },
    {
      "cell_type": "code",
      "metadata": {
        "colab_type": "code",
        "id": "I1RtBvoKBxq5",
        "colab": {}
      },
      "source": [
        "print('Eager results: %2.2f, %2.2f' % (square_if_positive(tf.constant(9.0)),\n",
        "                                       square_if_positive(tf.constant(-9.0))))"
      ],
      "execution_count": 0,
      "outputs": []
    },
    {
      "cell_type": "markdown",
      "metadata": {
        "colab_type": "text",
        "id": "Fpk3MxVVv5gn"
      },
      "source": [
        "그래프 버전을 생성한 후에 호출합니다:"
      ]
    },
    {
      "cell_type": "code",
      "metadata": {
        "colab_type": "code",
        "id": "SGjSq0WQvwGs",
        "colab": {}
      },
      "source": [
        "tf_square_if_positive = autograph.to_graph(square_if_positive)\n",
        "\n",
        "with tf.Graph().as_default():\n",
        "  # The result works like a regular op: takes tensors in, returns tensors.\n",
        "  # You can inspect the graph using tf.get_default_graph().as_graph_def()\n",
        "  g_out1 = tf_square_if_positive(tf.constant( 9.0))\n",
        "  g_out2 = tf_square_if_positive(tf.constant(-9.0))\n",
        "  with tf.Session() as sess:\n",
        "    print('Graph results: %2.2f, %2.2f\\n' % (sess.run(g_out1), sess.run(g_out2)))"
      ],
      "execution_count": 0,
      "outputs": []
    },
    {
      "cell_type": "markdown",
      "metadata": {
        "colab_type": "text",
        "id": "m-jWmsCmByyw"
      },
      "source": [
        "오토그래프 모듈은 `while`, `for`, `if`, `break`와 `return` 같은 일반적인 파이썬 구문과 중첩(nesting)을 지원합니다. 다음의 파이썬 함수와 그를 변환한 복잡한 그래프 버전을 비교해볼 수 있습니다:"
      ]
    },
    {
      "cell_type": "code",
      "metadata": {
        "colab_type": "code",
        "id": "toxKBOXbB1ro",
        "colab": {}
      },
      "source": [
        "# Continue in a loop\n",
        "def sum_even(items):\n",
        "  s = 0\n",
        "  for c in items:\n",
        "    if c % 2 > 0:\n",
        "      continue\n",
        "    s += c\n",
        "  return s\n",
        "\n",
        "print('Eager result: %d' % sum_even(tf.constant([10,12,15,20])))\n",
        "\n",
        "tf_sum_even = autograph.to_graph(sum_even)\n",
        "\n",
        "with tf.Graph().as_default(), tf.Session() as sess:\n",
        "    print('Graph result: %d\\n\\n' % sess.run(tf_sum_even(tf.constant([10,12,15,20]))))"
      ],
      "execution_count": 0,
      "outputs": []
    },
    {
      "cell_type": "code",
      "metadata": {
        "colab_type": "code",
        "id": "jlyQgxYsYSXr",
        "colab": {}
      },
      "source": [
        "print(autograph.to_code(sum_even))"
      ],
      "execution_count": 0,
      "outputs": []
    },
    {
      "cell_type": "markdown",
      "metadata": {
        "colab_type": "text",
        "id": "FUJJ-WTdCGeq"
      },
      "source": [
        "## 데코레이터\n",
        "\n",
        "파이썬 코드로 작성된 원래의 함수에 접근할 필요가 없다면, `convert` 데코레이터를 사용합니다."
      ]
    },
    {
      "cell_type": "code",
      "metadata": {
        "colab_type": "code",
        "id": "BKhFNXDic4Mw",
        "colab": {}
      },
      "source": [
        "@autograph.convert(optional_features=autograph.Feature.ALL)\n",
        "def fizzbuzz(i, n):\n",
        "  while i < n:\n",
        "    msg = ''\n",
        "    if i % 3 == 0:\n",
        "      msg += 'Fizz'\n",
        "    if i % 5 == 0:\n",
        "      msg += 'Buzz'\n",
        "    if msg == '':\n",
        "      msg = tf.as_string(i)\n",
        "    print(msg)\n",
        "    i += 1\n",
        "  return i\n",
        "\n",
        "with tf.Graph().as_default():\n",
        "  final_i = fizzbuzz(tf.constant(10), tf.constant(16))\n",
        "  # The result works like a regular op: takes tensors in, returns tensors.\n",
        "  # You can inspect the graph using tf.get_default_graph().as_graph_def()\n",
        "  with tf.Session() as sess:\n",
        "    sess.run(final_i)\n",
        "\n"
      ],
      "execution_count": 0,
      "outputs": []
    },
    {
      "cell_type": "markdown",
      "metadata": {
        "colab_type": "text",
        "id": "-pkEH6OecW7h"
      },
      "source": [
        "## 예제 Examples\n",
        "\n",
        "파이썬 언어의 몇 가지 유용한 구문들을 실습해보겠습니다.\n"
      ]
    },
    {
      "cell_type": "markdown",
      "metadata": {
        "colab_type": "text",
        "id": "axoRAkWi0CQG"
      },
      "source": [
        "### Assert\n",
        "\n",
        "오토그래프 모듈은 파이썬의  `assert`문을  `tf.Assert` 로 변환합니다:"
      ]
    },
    {
      "cell_type": "code",
      "metadata": {
        "colab_type": "code",
        "id": "IAOgh62zCPZ4",
        "colab": {}
      },
      "source": [
        "@autograph.convert(optional_features=autograph.Feature.ALL)\n",
        "def inverse(x):\n",
        "  assert x != 0.0, 'Do not pass zero!'\n",
        "  return 1.0 / x\n",
        "\n",
        "with tf.Graph().as_default(), tf.Session() as sess:\n",
        "  try:\n",
        "    print(sess.run(inverse(tf.constant(0.0))))\n",
        "  except tf.errors.InvalidArgumentError as e:\n",
        "    print('Got error message:\\n    %s' % e.message)"
      ],
      "execution_count": 0,
      "outputs": []
    },
    {
      "cell_type": "markdown",
      "metadata": {
        "colab_type": "text",
        "id": "1UYgrNtCV9p7"
      },
      "source": [
        "### Print\n",
        "\n",
        "원한다면, `tf.function`의 의존성 관리 (dependency management) 기능을 사용하여 그래프 내에서 파이썬의 `print` 함수를 사용할 수 있습니다:"
      ]
    },
    {
      "cell_type": "code",
      "metadata": {
        "colab_type": "code",
        "id": "ehBac9rUR6nh",
        "colab": {}
      },
      "source": [
        "@tf.function(experimental_autograph_options=autograph.Feature.BUILTIN_FUNCTIONS)\n",
        "def count(n):\n",
        "  i = 0\n",
        "  while i < n:\n",
        "    print(i)\n",
        "    i += 1\n",
        "  return n\n",
        "\n",
        "with tf.Graph().as_default(), tf.Session() as sess:\n",
        "    sess.run(count(tf.constant(5)))"
      ],
      "execution_count": 0,
      "outputs": []
    },
    {
      "cell_type": "markdown",
      "metadata": {
        "colab_type": "text",
        "id": "mtpegD_YR6HK"
      },
      "source": [
        "### Lists\n",
        "\n",
        "루프 내에서 리스트를 추가합니다 (텐서 리스트인 ops가 자동으로 생성됩니다):"
      ]
    },
    {
      "cell_type": "code",
      "metadata": {
        "colab_type": "code",
        "id": "ABX070KwCczR",
        "colab": {}
      },
      "source": [
        "@autograph.convert(optional_features=autograph.Feature.LISTS)\n",
        "def arange(n):\n",
        "  z = []\n",
        "  # We ask you to tell us the element dtype of the list\n",
        "  autograph.set_element_type(z, tf.int32)\n",
        "\n",
        "  for i in tf.range(n):\n",
        "    z.append(i)\n",
        "  # when you're done with the list, stack it\n",
        "  # (this is just like np.stack)\n",
        "  return autograph.stack(z)\n",
        "\n",
        "\n",
        "with tf.Graph().as_default(), tf.Session() as sess:\n",
        "    print(sess.run(arange(tf.constant(10))))"
      ],
      "execution_count": 0,
      "outputs": []
    },
    {
      "cell_type": "markdown",
      "metadata": {
        "colab_type": "text",
        "id": "qj7am2I_xvTJ"
      },
      "source": [
        "### 중첩된 제어 흐름(Nested control flow)"
      ]
    },
    {
      "cell_type": "code",
      "metadata": {
        "colab_type": "code",
        "id": "4yyNOf-Twr6s",
        "colab": {}
      },
      "source": [
        "@autograph.convert(optional_features=autograph.Feature.EQUALITY_OPERATORS)\n",
        "def nearest_odd_square(x):\n",
        "  if x > 0:\n",
        "    x = x * x\n",
        "    if x % 2 == 0:\n",
        "      x = x + 1\n",
        "  return x\n",
        "\n",
        "with tf.Graph().as_default():\n",
        "  with tf.Session() as sess:\n",
        "    print(sess.run(nearest_odd_square(tf.constant(4))))\n",
        "    print(sess.run(nearest_odd_square(tf.constant(5))))\n",
        "    print(sess.run(nearest_odd_square(tf.constant(6))))"
      ],
      "execution_count": 0,
      "outputs": []
    },
    {
      "cell_type": "markdown",
      "metadata": {
        "colab_type": "text",
        "id": "jXAxjeBr1qWK"
      },
      "source": [
        "### While 문"
      ]
    },
    {
      "cell_type": "code",
      "metadata": {
        "colab_type": "code",
        "id": "ucmZyQVL03bF",
        "colab": {}
      },
      "source": [
        "@autograph.convert()\n",
        "def square_until_stop(x, y):\n",
        "  while x < y:\n",
        "    x = x * x\n",
        "  return x\n",
        "\n",
        "with tf.Graph().as_default():\n",
        "  with tf.Session() as sess:\n",
        "    print(sess.run(square_until_stop(tf.constant(4), tf.constant(100))))"
      ],
      "execution_count": 0,
      "outputs": []
    },
    {
      "cell_type": "markdown",
      "metadata": {
        "colab_type": "text",
        "id": "3N1mz7sNY87N"
      },
      "source": [
        "### For 문"
      ]
    },
    {
      "cell_type": "code",
      "metadata": {
        "colab_type": "code",
        "id": "CFk2fszrY8af",
        "colab": {}
      },
      "source": [
        "@autograph.convert(optional_features=autograph.Feature.LISTS)\n",
        "def squares(nums):\n",
        "\n",
        "  result = []\n",
        "  autograph.set_element_type(result, tf.int64)\n",
        "\n",
        "  for num in nums:\n",
        "    result.append(num * num)\n",
        "\n",
        "  return autograph.stack(result)\n",
        "\n",
        "with tf.Graph().as_default():\n",
        "  with tf.Session() as sess:\n",
        "    print(sess.run(squares(tf.constant(np.arange(10)))))"
      ],
      "execution_count": 0,
      "outputs": []
    },
    {
      "cell_type": "markdown",
      "metadata": {
        "colab_type": "text",
        "id": "FXB0Zbwl13PY"
      },
      "source": [
        "### Break"
      ]
    },
    {
      "cell_type": "code",
      "metadata": {
        "colab_type": "code",
        "id": "1sjaFcL717Ig",
        "colab": {}
      },
      "source": [
        "@autograph.convert()\n",
        "def argwhere_cumsum(x, threshold):\n",
        "  current_sum = 0.0\n",
        "  idx = 0\n",
        "  for i in tf.range(len(x)):\n",
        "    idx = i\n",
        "    if current_sum >= threshold:\n",
        "      break\n",
        "    current_sum += x[i]\n",
        "  return idx\n",
        "\n",
        "N = 10\n",
        "with tf.Graph().as_default():\n",
        "  with tf.Session() as sess:\n",
        "    idx = argwhere_cumsum(tf.ones(N), tf.constant(float(N/2)))\n",
        "    print(sess.run(idx))"
      ],
      "execution_count": 0,
      "outputs": []
    },
    {
      "cell_type": "markdown",
      "metadata": {
        "colab_type": "text",
        "id": "XY4UspHmZNdL"
      },
      "source": [
        "## `tf.Keras`와의 상호 운용성 Interoperation with `tf.Keras`\n",
        "\n",
        "지금까지 기초를 보았고, 이번에는 오토그래프를 이용해 모델 요소들을 만들어보겠습니다. \n",
        "\n",
        "`autograph`를 `tf.keras`에 통합하는 것은 상대적으로 간단합니다.\n",
        "\n",
        "\n",
        "### 무상태 함수 (Stateless functions)\n",
        "\n",
        "아래에 나와있는 `collatz`와 같은 무상태 함수들을 케라스 모델에 포함시키는 가장 쉬운 방법은 `tf.keras.layers.Lambda` 를 이용해서 한 레이어에 감싸는 것(wrap)입니다."
      ]
    },
    {
      "cell_type": "code",
      "metadata": {
        "colab_type": "code",
        "id": "ChZh3q-zcF6C",
        "colab": {}
      },
      "source": [
        "import numpy as np\n",
        "\n",
        "@autograph.convert(optional_features=autograph.Feature.ALL)\n",
        "def collatz(x):\n",
        "  x = tf.reshape(x,())\n",
        "  assert x > 0\n",
        "  n = tf.convert_to_tensor((0,))\n",
        "  while x != 1:\n",
        "    n += 1\n",
        "    if x % 2 == 0:\n",
        "      x = x // 2\n",
        "    else:\n",
        "      x = 3 * x + 1\n",
        "\n",
        "  return n\n",
        "\n",
        "with tf.Graph().as_default():\n",
        "  model = tf.keras.Sequential([\n",
        "    tf.keras.layers.Lambda(collatz, input_shape=(1,), output_shape=())\n",
        "  ])\n",
        "\n",
        "  result = model.predict(np.array([6171]))\n",
        "  print(result)"
      ],
      "execution_count": 0,
      "outputs": []
    },
    {
      "cell_type": "markdown",
      "metadata": {
        "colab_type": "text",
        "id": "k9LEoa3ud9hA"
      },
      "source": [
        "### 사용자 정의 레이어와 모델들\n",
        "\n",
        "<!--TODO(markdaoust) link to full examples  or these referenced models.-->\n",
        "\n",
        "오토그래프를 케라스 레이어와 모델에서 사용하는 가장 쉬운 방법은 `call` 방식에 `@autograph.convert()`를 적용하는 것입니다. 이처럼 클래스를 기반으로 코드를 작성하는 방법을 자세히 보려면 [텐서플로 케라스 가이드](https://tensorflow.org/guide/keras#build_advanced_models)를 참고하세요\n",
        "\n",
        "다음은 [확률적 네트워크 깊이(stochastic network depth)](https://arxiv.org/abs/1603.09382) 기법의 간단한 예시입니다:"
      ]
    },
    {
      "cell_type": "code",
      "metadata": {
        "colab_type": "code",
        "id": "DJi_RJkeeOju",
        "colab": {}
      },
      "source": [
        "# `K` is used to check if we're in train or test mode.\n",
        "K = tf.keras.backend\n",
        "\n",
        "class StochasticNetworkDepth(tf.keras.Sequential):\n",
        "  def __init__(self, layers, pfirst=1.0, plast=0.5,**kwargs):\n",
        "    self.pfirst = pfirst\n",
        "    self.plast = plast\n",
        "    super(StochasticNetworkDepth, self).__init__(layers,**kwargs)\n",
        "\n",
        "  def build(self, input_shape):\n",
        "    self.depth = len(self.layers)\n",
        "    self.plims = np.linspace(self.pfirst, self.plast, self.depth + 1)[:-1]\n",
        "    super(StochasticNetworkDepth, self).build(input_shape.as_list())\n",
        "\n",
        "  @autograph.convert(optional_features=autograph.Feature.ALL)\n",
        "  def call(self, inputs):\n",
        "    training = tf.cast(K.learning_phase(), dtype=bool)\n",
        "    if not training:\n",
        "      count = self.depth\n",
        "      return super(StochasticNetworkDepth, self).call(inputs), count\n",
        "\n",
        "    p = tf.random_uniform((self.depth,))\n",
        "\n",
        "    keeps = (p <= self.plims)\n",
        "    x = inputs\n",
        "\n",
        "    count = tf.reduce_sum(tf.cast(keeps, tf.int32))\n",
        "    for i in range(self.depth):\n",
        "      if keeps[i]:\n",
        "        x = self.layers[i](x)\n",
        "\n",
        "    # return both the final-layer output and the number of layers executed.\n",
        "    return x, count"
      ],
      "execution_count": 0,
      "outputs": []
    },
    {
      "cell_type": "markdown",
      "metadata": {
        "colab_type": "text",
        "id": "NIEzuNL6vMVl"
      },
      "source": [
        "이것을 MNIST 모양의 데이터에 적용해보겠습니다:"
      ]
    },
    {
      "cell_type": "code",
      "metadata": {
        "colab_type": "code",
        "id": "FiqyFySkWbeN",
        "colab": {}
      },
      "source": [
        "train_batch = np.random.randn(64, 28, 28, 1).astype(np.float32)"
      ],
      "execution_count": 0,
      "outputs": []
    },
    {
      "cell_type": "markdown",
      "metadata": {
        "colab_type": "text",
        "id": "Vz1JTpLOvT4u"
      },
      "source": [
        "확률적 깊이 모델 (stochastic depth model) 내에서 여러 장의 `conv` 레이어를 쌓아올립니다:"
      ]
    },
    {
      "cell_type": "code",
      "metadata": {
        "colab_type": "code",
        "id": "XwwtlQAjvUph",
        "colab": {}
      },
      "source": [
        "with tf.Graph().as_default() as g:\n",
        "  model = StochasticNetworkDepth(\n",
        "      [\n",
        "        layers.Conv2D(filters=16, activation=tf.nn.relu,\n",
        "                  kernel_size=(3, 3), padding='same')\n",
        "        for n in range(20)\n",
        "      ],\n",
        "      pfirst=1.0, plast=0.5\n",
        "  )\n",
        "\n",
        "  model.build(tf.TensorShape((None, None, None, 1)))\n",
        "\n",
        "  init = tf.global_variables_initializer()"
      ],
      "execution_count": 0,
      "outputs": []
    },
    {
      "cell_type": "markdown",
      "metadata": {
        "colab_type": "text",
        "id": "uM3g_v7mvrkg"
      },
      "source": [
        "학습 모드와 테스트 모드에서 예상한 대로 동작하는지 확인하기 위해 다음을 실행해봅니다:"
      ]
    },
    {
      "cell_type": "code",
      "metadata": {
        "colab_type": "code",
        "id": "7tdmuh5Zvm3D",
        "colab": {}
      },
      "source": [
        "# Use an explicit session here so we can set the train/test switch, and\n",
        "# inspect the layer count returned by `call`\n",
        "with tf.Session(graph=g) as sess:\n",
        "  init.run()\n",
        "\n",
        "  for phase, name in enumerate(['test','train']):\n",
        "    K.set_learning_phase(phase)\n",
        "    result, count = model(tf.convert_to_tensor(train_batch, dtype=tf.float32))\n",
        "\n",
        "    result1, count1 = sess.run((result, count))\n",
        "    result2, count2 = sess.run((result, count))\n",
        "\n",
        "    delta = (result1 - result2)\n",
        "    print(name, \"sum abs delta: \", abs(delta).mean())\n",
        "    print(\"    layers 1st call: \", count1)\n",
        "    print(\"    layers 2nd call: \", count2)\n",
        "    print()"
      ],
      "execution_count": 0,
      "outputs": []
    },
    {
      "cell_type": "markdown",
      "metadata": {
        "colab_type": "text",
        "id": "4LfnJjm0Bm0B"
      },
      "source": [
        "## 응용 예제: 그래프 내의 학습 루프\n",
        "\n",
        "이전 섹션에서는 오토그래프 모듈이 케라스 레이어와 모델들에서 사용될 수 있다는 것을 보여주었습니다. 반대로 케라스 모델 또한 오토 그래프 코드 내에서 사용될 수 있습니다.\n",
        "\n",
        "오토그래프 내에서 제어 흐름을 작성하는 것이 쉽기 때문에, 텐서플로 그래프로 학습 루프를 실행하는 것 또한 쉽습니다. Since writing control flow in AutoGraph is easy, running a training loop in a TensorFlow graph should also be easy.\n",
        "\n",
        "이 예시는 어떻게 간단한 케라스 모델을 MNIST 데이터에 학습시킬 수 있는지 그래프 내에서 진행되는 전체 학습과정 (배치를 로드하고, 그래디언트를 계산하고, 파라미터를 업데이트하고, 검증 정확도를 계산하고, 극점에 수렴할 때까지 반복하는 과정) 과 함께 보여줍니다."
      ]
    },
    {
      "cell_type": "markdown",
      "metadata": {
        "colab_type": "text",
        "id": "Em5dzSUOtLRP"
      },
      "source": [
        "### 데이터셋 다운로드"
      ]
    },
    {
      "cell_type": "code",
      "metadata": {
        "colab_type": "code",
        "id": "xqoxumv0ssQW",
        "colab": {}
      },
      "source": [
        "(train_images, train_labels), (test_images, test_labels) = tf.keras.datasets.mnist.load_data()"
      ],
      "execution_count": 0,
      "outputs": []
    },
    {
      "cell_type": "markdown",
      "metadata": {
        "colab_type": "text",
        "id": "znmy4l8ntMvW"
      },
      "source": [
        "### 모델 정의하기"
      ]
    },
    {
      "cell_type": "code",
      "metadata": {
        "colab_type": "code",
        "id": "Pe-erWQdBoC5",
        "colab": {}
      },
      "source": [
        "def mlp_model(input_shape):\n",
        "  model = tf.keras.Sequential((\n",
        "      tf.keras.layers.Dense(100, activation='relu', input_shape=input_shape),\n",
        "      tf.keras.layers.Dense(100, activation='relu'),\n",
        "      tf.keras.layers.Dense(10, activation='softmax')))\n",
        "  model.build()\n",
        "  return model\n",
        "\n",
        "\n",
        "def predict(m, x, y):\n",
        "  y_p = m(tf.reshape(x, (-1, 28 * 28)))\n",
        "  losses = tf.keras.losses.categorical_crossentropy(y, y_p)\n",
        "  l = tf.reduce_mean(losses)\n",
        "  accuracies = tf.keras.metrics.categorical_accuracy(y, y_p)\n",
        "  accuracy = tf.reduce_mean(accuracies)\n",
        "  return l, accuracy\n",
        "\n",
        "\n",
        "def fit(m, x, y, opt):\n",
        "  l, accuracy = predict(m, x, y)\n",
        "  # Autograph automatically adds the necessary `tf.control_dependencies` here.\n",
        "  # (Without them nothing depends on `opt.minimize`, so it doesn't run.)\n",
        "  # This makes it much more like eager-code.\n",
        "  opt.minimize(l)\n",
        "  return l, accuracy\n",
        "\n",
        "\n",
        "def setup_mnist_data(is_training, batch_size):\n",
        "  if is_training:\n",
        "    ds = tf.data.Dataset.from_tensor_slices((train_images, train_labels))\n",
        "    ds = ds.shuffle(batch_size * 10)\n",
        "  else:\n",
        "    ds = tf.data.Dataset.from_tensor_slices((test_images, test_labels))\n",
        "\n",
        "  ds = ds.repeat()\n",
        "  ds = ds.batch(batch_size)\n",
        "  return ds\n",
        "\n",
        "\n",
        "@autograph.convert()\n",
        "def get_next_batch(ds):\n",
        "  itr = tf.compat.v1.data.make_one_shot_iterator(ds)\n",
        "  image, label = itr.get_next()\n",
        "  x = tf.to_float(image) / 255.0\n",
        "  y = tf.one_hot(tf.squeeze(label), 10)\n",
        "  return x, y"
      ],
      "execution_count": 0,
      "outputs": []
    },
    {
      "cell_type": "markdown",
      "metadata": {
        "colab_type": "text",
        "id": "oeYV6mKnJGMr"
      },
      "source": [
        "### 학습 루프 정의하기"
      ]
    },
    {
      "cell_type": "code",
      "metadata": {
        "colab_type": "code",
        "id": "3xtg_MMhJETd",
        "colab": {}
      },
      "source": [
        "# Use `recursive = True` to recursively convert functions called by this one.\n",
        "@autograph.convert(recursive=True, optional_features=autograph.Feature.ALL)\n",
        "def train(train_ds, test_ds, hp):\n",
        "  m = mlp_model((28 * 28,))\n",
        "  opt = tf.train.AdamOptimizer(hp.learning_rate)\n",
        "\n",
        "  # We'd like to save our losses to a list. In order for AutoGraph\n",
        "  # to convert these lists into their graph equivalent,\n",
        "  # we need to specify the element type of the lists.\n",
        "  train_losses = []\n",
        "  autograph.set_element_type(train_losses, tf.float32)\n",
        "  test_losses = []\n",
        "  autograph.set_element_type(test_losses, tf.float32)\n",
        "  train_accuracies = []\n",
        "  autograph.set_element_type(train_accuracies, tf.float32)\n",
        "  test_accuracies = []\n",
        "  autograph.set_element_type(test_accuracies, tf.float32)\n",
        "\n",
        "  # This entire training loop will be run in-graph.\n",
        "  i = tf.constant(0)\n",
        "  while i < hp.max_steps:\n",
        "    train_x, train_y = get_next_batch(train_ds)\n",
        "    test_x, test_y = get_next_batch(test_ds)\n",
        "\n",
        "    step_train_loss, step_train_accuracy = fit(m, train_x, train_y, opt)\n",
        "    step_test_loss, step_test_accuracy = predict(m, test_x, test_y)\n",
        "    if i % 50 == 0:\n",
        "      print('Step', i, 'train loss:', step_train_loss, 'test loss:',\n",
        "            step_test_loss, 'train accuracy:', step_train_accuracy,\n",
        "            'test accuracy:', step_test_accuracy)\n",
        "    train_losses.append(step_train_loss)\n",
        "    test_losses.append(step_test_loss)\n",
        "    train_accuracies.append(step_train_accuracy)\n",
        "    test_accuracies.append(step_test_accuracy)\n",
        "    i += 1\n",
        "\n",
        "  # We've recorded our loss values and accuracies\n",
        "  # to a list in a graph with AutoGraph's help.\n",
        "  # In order to return the values as a Tensor,\n",
        "  # we need to stack them before returning them.\n",
        "  return (autograph.stack(train_losses), autograph.stack(test_losses),\n",
        "          autograph.stack(train_accuracies), autograph.stack(test_accuracies))"
      ],
      "execution_count": 0,
      "outputs": []
    },
    {
      "cell_type": "markdown",
      "metadata": {
        "colab_type": "text",
        "id": "IsHLDZniauLV"
      },
      "source": [
        "그래프를 빌딩하고 학습 루프를 실행시킵니다:"
      ]
    },
    {
      "cell_type": "code",
      "metadata": {
        "colab_type": "code",
        "id": "HYh6MSZyJOag",
        "colab": {}
      },
      "source": [
        "with tf.Graph().as_default() as g:\n",
        "  hp = tf.contrib.training.HParams(\n",
        "      learning_rate=0.005,\n",
        "      max_steps=500,\n",
        "  )\n",
        "  train_ds = setup_mnist_data(True, 50)\n",
        "  test_ds = setup_mnist_data(False, 1000)\n",
        "  (train_losses, test_losses, train_accuracies,\n",
        "   test_accuracies) = train(train_ds, test_ds, hp)\n",
        "\n",
        "  init = tf.global_variables_initializer()\n",
        "\n",
        "with tf.Session(graph=g) as sess:\n",
        "  sess.run(init)\n",
        "  (train_losses, test_losses, train_accuracies,\n",
        "   test_accuracies) = sess.run([train_losses, test_losses, train_accuracies,\n",
        "                                test_accuracies])\n"
      ],
      "execution_count": 0,
      "outputs": []
    },
    {
      "cell_type": "code",
      "metadata": {
        "colab_type": "code",
        "id": "JzifaV9PGnH6",
        "colab": {}
      },
      "source": [
        "plt.title('MNIST train/test losses')\n",
        "plt.plot(train_losses, label='train loss')\n",
        "plt.plot(test_losses, label='test loss')\n",
        "plt.legend()\n",
        "plt.xlabel('Training step')\n",
        "plt.ylabel('Loss')\n",
        "plt.show()\n",
        "plt.title('MNIST train/test accuracies')\n",
        "plt.plot(train_accuracies, label='train accuracy')\n",
        "plt.plot(test_accuracies, label='test accuracy')\n",
        "plt.legend(loc='lower right')\n",
        "plt.xlabel('Training step')\n",
        "plt.ylabel('Accuracy')\n",
        "plt.show()"
      ],
      "execution_count": 0,
      "outputs": []
    }
  ]
}